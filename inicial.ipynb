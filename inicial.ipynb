{
 "cells": [
  {
   "cell_type": "markdown",
   "metadata": {},
   "source": [
    "\n",
    "\n",
    "### Case - Cancelamento de Clientes\n",
    "\n",
    "Você foi contratado por uma empresa com mais de 800 mil clientes para um projeto de Dados. Recentemente a empresa percebeu que da sua base total de clientes, a maioria são clientes inativos, ou seja, que já cancelaram o serviço.\n",
    "\n",
    "Precisando melhorar seus resultados ela quer conseguir entender os principais motivos desses cancelamentos e quais as ações mais eficientes para reduzir esse número.\n",
    "\n",
    "\n"
   ]
  },
  {
   "cell_type": "code",
   "execution_count": null,
   "metadata": {},
   "outputs": [],
   "source": [
    "#joia = nome de uma tabela!!!\n",
    "\n",
    "#Passo a passo\n",
    "\n",
    "#1 Importar a base de dados\n",
    "import pandas as pd #apelido pandas\n",
    "\n",
    "joia = pd.read_csv(\"cancelamentos_sample.csv\") #armazendando em uma variavel a base de dados\n",
    "\n",
    "\n",
    "#2 Visualizar a base de dados\n",
    "    #excluir o ID pois não me interessa\n",
    "\n",
    "joia = joia.drop(columns='CustomerID') #deleta o customerID \n",
    "display(joia)\n",
    "\n",
    "\n",
    "#3 Tratamento de dados\n",
    "    #valores vazios\n",
    "    #formato das informações\n",
    "        #NaN = valor vazio ||dropNA\n",
    "joia = joia.dropna()\n",
    "display(joia.info()) #exibir informações\n",
    "\n",
    "\n",
    "\n"
   ]
  },
  {
   "cell_type": "code",
   "execution_count": null,
   "metadata": {},
   "outputs": [],
   "source": [
    "#4 Analisar o cancelamento dos clientes\n",
    "\n",
    "display(joia [\"cancelou\"].value_counts())\n",
    "display(joia[\"cancelou\"].value_counts(normalize=True))\n",
    "\n",
    "import plotly.express as px\n",
    "\n",
    "# 5. Analisar a causa de cancelamento dos clientes (descobrir como as informações do cliente impactam no cancelamento.)\n",
    "# Importar a biblioteca de gráficos\n",
    "\n",
    "import plotly.express as px\n",
    "\n",
    "# Criar o gráfico\n",
    "\n",
    "\n",
    "for coluna in joia.columns:\n",
    "\n",
    "    grafico = px.histogram(joia, x=coluna, color=\"cancelou\")\n",
    "    #exibir gráfico\n",
    "    grafico.show()\n"
   ]
  },
  {
   "cell_type": "code",
   "execution_count": null,
   "metadata": {},
   "outputs": [],
   "source": [
    "# clientes do contrato mensal TODOS cancelam\n",
    "    # ofercer desconto nos planos anuais e trimestrais\n",
    "# clientes que ligam mais do que 4 vezes para o call center, cancelam\n",
    "    # criar um processo para resolver o problema do cliente em no máximo 3 ligações\n",
    "# clientes que atrasaram mais de 20 dias, cancelaram\n",
    "    # política de resolver atrasos em até 10 dias (equipe financeira)\n",
    "\n",
    "#Criar Filtros\n",
    "#Se não tivesse clientes com contrato mensal como seria o cancelamento\n",
    "joia = joia[joia[\"duracao_contrato\"]!=\"Monthly\"] #cria um filtro com uma condição dentro. \n",
    "#Se não tivesse clientes com mais de 4 ligações \n",
    "joia = joia[joia[\"ligacoes_callcenter\"]<=4]\n",
    "#Se não tiver cliente com mais de 20 dias de atraso\n",
    "joia = joia[joia[\"dias_atraso\"]<=20]\n",
    "display(joia[\"cancelou\"].value_counts(normalize=True))\n"
   ]
  }
 ],
 "metadata": {
  "kernelspec": {
   "display_name": "base",
   "language": "python",
   "name": "python3"
  },
  "language_info": {
   "codemirror_mode": {
    "name": "ipython",
    "version": 3
   },
   "file_extension": ".py",
   "mimetype": "text/x-python",
   "name": "python",
   "nbconvert_exporter": "python",
   "pygments_lexer": "ipython3",
   "version": "3.12.3"
  },
  "orig_nbformat": 4
 },
 "nbformat": 4,
 "nbformat_minor": 2
}
